{
  "cells": [
    {
      "cell_type": "code",
      "execution_count": null,
      "metadata": {
        "colab": {
          "base_uri": "https://localhost:8080/"
        },
        "id": "5PmFNJwnVe8E",
        "outputId": "d1be24ac-cf82-436c-c441-ed04a32aab19"
      },
      "outputs": [
        {
          "name": "stdout",
          "output_type": "stream",
          "text": [
            "Hola\n",
            "Carlos Vega\n",
            "3134061\n",
            "Digite Nombre: luis\n",
            "luis\n"
          ]
        }
      ],
      "source": [
        "print(\"Hola\")\n",
        "nombre = \"Carlos\"\n",
        "Apellido = \"Vega\"\n",
        "telefono = 3134061\n",
        "print(nombre +\" \"+ Apellido)\n",
        "print(telefono)\n",
        "nombre_per = input(\"Digite Nombre: \")\n",
        "print(nombre_per)"
      ]
    },
    {
      "cell_type": "code",
      "execution_count": null,
      "metadata": {
        "colab": {
          "base_uri": "https://localhost:8080/"
        },
        "id": "CXqkDlcAWuO6",
        "outputId": "2c525900-5891-4504-b9a9-7c1009ae7c78"
      },
      "outputs": [
        {
          "name": "stdout",
          "output_type": "stream",
          "text": [
            "Digite su Identificacion: 1020304512\n",
            "Digite su Nombre: Luis Manuel\n",
            "Digite su Apellido: Pulido Capote\n",
            "Digite su Direccion: Av Rojas\n",
            "Digite su Telefono: 3134658597\n",
            "Digite su Edad: 23\n",
            "Digite su Estado civil: Soltero\n",
            "Digite su Numero de Hijos: 0\n",
            "Digite su Estatura en cm: 180\n",
            "1020304512\n",
            "Luis Manuel Pulido Capote\n",
            "Av Rojas\n",
            "3134658597\n",
            "23\n",
            "Soltero\n",
            "0\n",
            "27/01/2023\n",
            "3500000\n",
            "22\n"
          ]
        }
      ],
      "source": [
        "No_de_Identificación = input(\"Digite su Identificacion: \")\n",
        "Nombre = input(\"Digite su Nombre: \")\n",
        "Apellido = input(\"Digite su Apellido: \")\n",
        "Direccion = input(\"Digite su Direccion: \")\n",
        "Telefono = input(\"Digite su Telefono: \")\n",
        "Edad = input(\"Digite su Edad: \")\n",
        "Estado_civil = input(\"Digite su Estado civil: \")\n",
        "Numero_de_Hijos = input(\"Digite su Numero de Hijos: \")\n",
        "Estatura_en_cm = input(\"Digite su Estatura en cm: \")\n",
        "Fecha_de_contratación = \"27/01/2023\"\n",
        "Sueldo_básico = 3500000\n",
        "Días_Laborados = 22\n",
        "print(No_de_Identificación)\n",
        "print(Nombre +\" \"+ Apellido)\n",
        "print(Direccion)\n",
        "print(Telefono)\n",
        "print(Edad)\n",
        "print(Estado_civil)\n",
        "print(Numero_de_Hijos)\n",
        "print(Fecha_de_contratación)\n",
        "print(Sueldo_básico)\n",
        "print(Días_Laborados)\n",
        "\n"
      ]
    },
    {
      "cell_type": "code",
      "execution_count": null,
      "metadata": {
        "colab": {
          "base_uri": "https://localhost:8080/"
        },
        "id": "h2uIQ6ZJH2Fn",
        "outputId": "85425dbc-edb3-42e9-a6bb-5dc06007861c"
      },
      "outputs": [
        {
          "name": "stdout",
          "output_type": "stream",
          "text": [
            "Digite su Identificacion: 1814567599\n",
            "1814567599\n",
            "Pedro Alfonso Vargas Vega\n",
            "Av esperanza # 26\n",
            "3134585645\n",
            "29\n",
            "Casado\n",
            "3\n",
            "27/01/2023\n",
            "3500000\n",
            "22\n"
          ]
        }
      ],
      "source": [
        "No_de_Identificación = input(\"Digite su Identificacion: \")\n",
        "Nombre = \"Pedro Alfonso\"\n",
        "Apellido = \"Vargas Vega\"\n",
        "Direccion = \"Av esperanza # 26\"\n",
        "Telefono = \"3134585645\"\n",
        "Edad = 29\n",
        "Estado_civil = \"Casado\"\n",
        "Numero_de_Hijos = 3\n",
        "Estatura_en_cm = 158\n",
        "Fecha_de_contratación = \"27/01/2023\"\n",
        "Sueldo_básico = 3500000\n",
        "Días_Laborados = 22\n",
        "print(No_de_Identificación)\n",
        "print(Nombre +\" \"+ Apellido)\n",
        "print(Direccion)\n",
        "print(Telefono)\n",
        "print(Edad)\n",
        "print(Estado_civil)\n",
        "print(Numero_de_Hijos)\n",
        "print(Fecha_de_contratación)\n",
        "print(Sueldo_básico)\n",
        "print(Días_Laborados)"
      ]
    },
    {
      "cell_type": "code",
      "execution_count": null,
      "metadata": {
        "colab": {
          "base_uri": "https://localhost:8080/"
        },
        "id": "vTxCRjVOSra_",
        "outputId": "528c6db6-7c22-4a3d-87a4-f99d320bcb33"
      },
      "outputs": [
        {
          "name": "stdout",
          "output_type": "stream",
          "text": [
            "Digite Sueldo_Base: 10\n",
            "Digite su Porcentaje_Aumento: 10\n",
            "Digite Valor_Venta1: 10\n",
            "Digite Valor_Venta2: 20\n",
            "Digite Valor_Venta3: 30\n",
            "Porcentaje_Aumento es = 10% y el Valor_comisiones = 6\n",
            "Salario_final es = 16\n"
          ]
        }
      ],
      "source": [
        "# Ejercicio Vendedor\n",
        "Sueldo_Base = int(input(\"Digite Sueldo_Base: \"))\n",
        "Porcentaje_Aumento = int(input(\"Digite su Porcentaje_Aumento: \"))\n",
        "Valor_Venta1 = int(input(\"Digite Valor_Venta1: \"))\n",
        "Valor_Venta2 = int(input(\"Digite Valor_Venta2: \"))\n",
        "Valor_Venta3 = int(input(\"Digite Valor_Venta3: \"))\n",
        "\n",
        "Comision1=(Valor_Venta1*Porcentaje_Aumento/100)\n",
        "Comision2=(Valor_Venta2*Porcentaje_Aumento/100)\n",
        "Comision3=(Valor_Venta3*Porcentaje_Aumento/100)\n",
        "\n",
        "Valor_comision = Comision1 + Comision2 + Comision3\n",
        "\n",
        "Salario_final=(Valor_comision+Sueldo_Base)\n",
        "print(\"Porcentaje_Aumento es = {}% y el Valor_comisiones = {:.0f}\".format(Porcentaje_Aumento, Valor_comision ))\n",
        "print(\"Salario_final es = {:.0f}\".format(Salario_final))\n"
      ]
    },
    {
      "cell_type": "code",
      "execution_count": null,
      "metadata": {
        "colab": {
          "base_uri": "https://localhost:8080/"
        },
        "id": "sRz4vhsOYVvE",
        "outputId": "eb073cf9-88c8-4f0c-9cb2-a36be2299606"
      },
      "outputs": [
        {
          "name": "stdout",
          "output_type": "stream",
          "text": [
            "Digite su Compra: 10000\n",
            "Digite Descuento: 15\n",
            "Precio_final es = 8500\n"
          ]
        }
      ],
      "source": [
        "# Ejercicio Tienda\n",
        "Compra = int(input(\"Digite su Compra: \"))\n",
        "Descuento = int(input(\"Digite Descuento: \"))\n",
        "\n",
        "Valor_Descuento = (Compra*Descuento/100)\n",
        "Precio_final = Compra - Valor_Descuento\n",
        "print(\"Precio_final es = {:.0f}\".format(Precio_final))\n"
      ]
    },
    {
      "cell_type": "code",
      "execution_count": null,
      "metadata": {
        "colab": {
          "base_uri": "https://localhost:8080/"
        },
        "id": "nodWRJbmZGE3",
        "outputId": "245df5d2-6230-4e42-9eff-e39108beeb24"
      },
      "outputs": [
        {
          "name": "stdout",
          "output_type": "stream",
          "text": [
            "Digite la calificacion_1: 4\n",
            "Digite la calificacion_2: 4.5\n",
            "Digite la calificacion_3: 2\n",
            "El promedio es= 3.5\n"
          ]
        }
      ],
      "source": [
        "# Ejercicio Tienda\n",
        "calificacion_1 = float(input(\"Digite la calificacion_1: \"))\n",
        "calificacion_2 = float(input(\"Digite la calificacion_2: \"))\n",
        "calificacion_3 = float(input(\"Digite la calificacion_3: \"))\n",
        "\n",
        "Promedio = round((calificacion_1 + calificacion_2 + calificacion_3) / 3, 1)\n",
        "\n",
        "print(f\"El promedio es= {Promedio}\")"
      ]
    },
    {
      "cell_type": "code",
      "execution_count": null,
      "metadata": {
        "colab": {
          "base_uri": "https://localhost:8080/"
        },
        "id": "hd3PtBqdZuAo",
        "outputId": "eeb45d89-2b4d-4207-99f5-85cdbd0a5b8c"
      },
      "outputs": [
        {
          "output_type": "stream",
          "name": "stdout",
          "text": [
            "Digite # de Hombres: 10\n",
            "Digite # de Mujeres: 10\n",
            "El Total de estudiantes es = 20\n",
            "El Porcentaje_Hombres = 50 %\n",
            "El Porcentaje_Mujeres = 50 %\n"
          ]
        }
      ],
      "source": [
        "# Ejercicio Estudiantes\n",
        "\n",
        "Hombres = int(input(\"Digite # de Hombres: \"))\n",
        "Mujeres = int(input(\"Digite # de Mujeres: \"))\n",
        "\n",
        "Total = Hombres + Mujeres\n",
        "Porcentaje_Hombres= Hombres/Total*100\n",
        "Porcentaje_Mujeres= Mujeres/Total*100\n",
        "print(f\"El Total de estudiantes es = {Total}\")\n",
        "print(\"El Porcentaje_Hombres = {:.0f} %\".format(Porcentaje_Hombres))\n",
        "print(\"El Porcentaje_Mujeres = {:.0f} %ç\".format(Porcentaje_Mujeres))\n"
      ]
    },
    {
      "cell_type": "code",
      "source": [
        "No_de_Identificación = 1015234561\n",
        "Nombre = \"Pedro Alfonso\"\n",
        "Apellido = \"Vargas Vega\"\n",
        "Direccion = \"Av esperanza # 26\"\n",
        "Telefono = \"3134585645\"\n",
        "Estatura_en_cm = 158\n",
        "Edad = int(input(\"Digite Edad: \"))\n",
        "Estado_civil = input(\"Digite Estado_civil: \")\n",
        "Numero_de_Hijos = int(input(\"Digite # Hijos: \"))\n",
        "Fecha_de_contratación = \"27/01/2023\"\n",
        "Sueldo_basico =  int(input(\"Ingrese Salario: \"))\n",
        "Días_Laborados = int(input(\"Ingrese Dias_laborados: \"))\n",
        "\n",
        "# Pension\n",
        "if Edad>55:\n",
        "  Bono_Edad=Sueldo_basico*0.05\n",
        "  print(\"El Bono de pension es =${:,.0f}\".format(Bono_Edad))\n",
        "else:\n",
        "  print(\"No tiene Bono de pension\")\n",
        "\n",
        "# Estado civil\n",
        "Estado1=\"casado\"\n",
        "Estado2=\"casada\"\n",
        "if Estado_civil==Estado1 or Estado_civil==Estado2 and Numero_de_Hijos>=1:\n",
        "  print(\"Tiene derecho a Paseo Diciembre!\")\n",
        "else:\n",
        "  print(\"No tiene derecho a Paseo Diciembre!\")\n",
        "\n",
        "# Salario Basico\n",
        "if Sueldo_basico >= 1000000 and Sueldo_basico <= 1500000:\n",
        "  Bono_Salario=Sueldo_basico*0.02\n",
        "  print(\"El Bono de Salario es =${:,.0f}\".format(Bono_Salario))\n",
        "elif Sueldo_basico > 1500000 and Sueldo_basico <= 2000000:\n",
        "  Bono_Salario=Sueldo_basico*0.05\n",
        "  print(\"El Bono de Salario es =${:,.0f}\".format(Bono_Salario))\n",
        "else:\n",
        "  print(\"No tiene Bono de pension\")\n",
        "\n",
        "# Dias Laborados\n",
        "if Días_Laborados>20 and Sueldo_basico <= 1000000:\n",
        "   print(\"Tiene Bono de Alimentacion\")\n",
        "else:\n",
        "   print(\"No Tiene Bono de Alimentacion\")\n",
        "\n"
      ],
      "metadata": {
        "colab": {
          "base_uri": "https://localhost:8080/"
        },
        "id": "Oyzh68oWb09J",
        "outputId": "f5630539-b878-47c5-a13f-e554047a9648"
      },
      "execution_count": null,
      "outputs": [
        {
          "output_type": "stream",
          "name": "stdout",
          "text": [
            "Digite Edad: 20\n",
            "Digite Estado_civil: casado\n",
            "Digite # Hijos: 1\n",
            "Ingrese Salario: 700000\n",
            "Ingrese Dias_laborados: 20\n",
            "No tiene Bono de pension\n",
            "Tiene derecho a Paseo Diciembre!\n",
            "No tiene Bono de pension\n",
            "No Tiene Bono de Alimentacion\n"
          ]
        }
      ]
    }
  ],
  "metadata": {
    "colab": {
      "provenance": []
    },
    "kernelspec": {
      "display_name": "Python 3",
      "name": "python3"
    },
    "language_info": {
      "name": "python"
    }
  },
  "nbformat": 4,
  "nbformat_minor": 0
}